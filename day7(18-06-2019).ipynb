{
 "cells": [
  {
   "cell_type": "markdown",
   "metadata": {},
   "source": [
    "## 18 June 2019 Objectives:\n",
    "\n",
    "> #### * Soving few basic problems in hackearth sing python\n",
    "> #### * Tuples\n",
    "> #### * Dictionaries\n",
    "> #### * Packages and Modules\n",
    "\n",
    "\n",
    "\n",
    "### You are given an array of n numbers and q queries. For each query you have to print the floor of the expected value(mean) of the subarray from L to R.\n",
    "\n",
    "### input\n",
    "\n",
    "### First line contains two integers N and Q denoting number of array elements and number of queries.\n",
    "\n",
    "### Next line contains N space seperated integers denoting array elements.\n",
    "\n",
    "### Next Q lines contain two integers L and R(indices of the array).\n",
    "\n",
    "### output\n",
    "\n",
    "### print a single integer denoting the answer."
   ]
  },
  {
   "cell_type": "code",
   "execution_count": null,
   "metadata": {},
   "outputs": [],
   "source": [
    "def playWithNum(li,lb,ub):\n",
    "    '''if ub >= len(li):\n",
    "        li.append(0)\n",
    "        playWithNum(li,lb,ub)'''\n",
    "    return (sum(li[lb-1:ub])//len(li[lb-1:ub]))\n",
    "        \n",
    "\n",
    "# Write your code here\n",
    "N = list(map(int,input().split())) # 5 3\n",
    "\n",
    "li = list(map(int,input().split())) # 1 2 3 4 5\n",
    "\n",
    "\n",
    "for i in range(N[1]):\n",
    "    \"\"\" 1 3\n",
    "        2 4\n",
    "        2 5\"\"\"\n",
    "    pos = list(map(int,input().split()))\n",
    "    rs = playWithNum(li,pos[0],pos[1])\n",
    "    print(rs)\n",
    "    \"\"\" 2 \n",
    "        3\n",
    "        3\"\"\""
   ]
  },
  {
   "cell_type": "markdown",
   "metadata": {},
   "source": [
    "### Problem 4\n",
    "\n",
    "#### A special number is defined as a number which has at least P distinct prime factors.\n",
    "#### write a program to determine whethere a number is special number or not"
   ]
  },
  {
   "cell_type": "code",
   "execution_count": null,
   "metadata": {},
   "outputs": [],
   "source": [
    "\n",
    "# function to determine A special number which has at least P distinct prime factors\n",
    "\n",
    "def isSpecialNumber(n,p):\n",
    "    if numnberPrimeFActors(n) >= p:\n",
    "        return True\n",
    "    return False\n",
    "        \n",
    "\n",
    "# function to check if number is prime or not\n",
    "def isPrime(n):\n",
    "    flag = 1\n",
    "    if n ==2:\n",
    "        return True\n",
    "    for i in range(2,n//2+1):\n",
    "        if n % i == 0:\n",
    "            flag = 0\n",
    "            return False\n",
    "    if flag == 1:\n",
    "        return True\n",
    "    \n",
    "# function to determine number of prime factors for given number\n",
    "def numnberPrimeFActors(n):\n",
    "    count = 0\n",
    "    for i in range(2,n // 2 + 1):\n",
    "        if isPrime(i) and n % i == 0:\n",
    "            count += 1\n",
    "    return count\n",
    "#isSpecialNumber(30, 2)\n",
    "def solution2():\n",
    "    p = int(input())\n",
    "    t = int(input())\n",
    "    for i in range(0,t):\n",
    "        n = int(input())\n",
    "        if isSpecialNumber(n,p):\n",
    "            print(\"YES\")\n",
    "        else:\n",
    "            print(\"NO\")\n",
    "solution2()\n"
   ]
  },
  {
   "cell_type": "markdown",
   "metadata": {},
   "source": [
    " ## Highest Remainder\n",
    " \n",
    " ### Write a program to find a natural number that is smaller than N such that N gives the highest remainder when divided by that number.\n",
    " \n",
    " ### if there is more than one such number ,print the smallest one"
   ]
  },
  {
   "cell_type": "code",
   "execution_count": 3,
   "metadata": {},
   "outputs": [
    {
     "name": "stdout",
     "output_type": "stream",
     "text": [
      "16\n"
     ]
    }
   ],
   "source": [
    "def highestRemainder(n):\n",
    "    hr = 0\n",
    "    v = n\n",
    "    for i in range(n-1,n // 2, -1):\n",
    "        r = n % i\n",
    "        if r > hr:\n",
    "            hr = r\n",
    "            v = i\n",
    "    print(v)\n",
    "    return\n",
    "highestRemainder(30)"
   ]
  },
  {
   "cell_type": "markdown",
   "metadata": {},
   "source": [
    "## Tuples\n",
    "\n",
    "tl = () or tl = tuple()\n",
    "\n",
    "li = []\n",
    "lists are mutable -  can be change/mpdify\n",
    "\n",
    "- Access,Modify,Add,delete data\n",
    "\n",
    "tupleas are immutable - cannot change/modify once nitialize\n",
    "\n",
    "- Used to access data only\n",
    "- All slicing operations work\n"
   ]
  },
  {
   "cell_type": "code",
   "execution_count": 7,
   "metadata": {},
   "outputs": [
    {
     "data": {
      "text/plain": [
       "(4, 2, 0, 8)"
      ]
     },
     "execution_count": 7,
     "metadata": {},
     "output_type": "execute_result"
    }
   ],
   "source": [
    "tl = (1,2,6,4,2,0,8)\n",
    "\n",
    "tl[2] # accessing 3rd element\n",
    "\n",
    "tl[len(tl)//2:] # Accessing all elements from middle to end\n",
    "\n"
   ]
  },
  {
   "cell_type": "code",
   "execution_count": 8,
   "metadata": {},
   "outputs": [
    {
     "data": {
      "text/plain": [
       "tuple"
      ]
     },
     "execution_count": 8,
     "metadata": {},
     "output_type": "execute_result"
    }
   ],
   "source": [
    "type(tl)"
   ]
  },
  {
   "cell_type": "markdown",
   "metadata": {},
   "source": [
    "### Dictiopnaries\n",
    "\n",
    "It works on the concept of set\n",
    "\n",
    "Set- Unique data\n",
    "\n",
    "Keys, Values\n",
    "\n",
    "Key is the unique Identifier for a value\n",
    "Value is data that can be accessed with key"
   ]
  },
  {
   "cell_type": "code",
   "execution_count": 10,
   "metadata": {},
   "outputs": [
    {
     "data": {
      "text/plain": [
       "'value2'"
      ]
     },
     "execution_count": 10,
     "metadata": {},
     "output_type": "execute_result"
    }
   ],
   "source": [
    "d1 = {\"k1\":\"value1\",\"k2\":\"value2\"}\n",
    "\n",
    "d1['k2'] # ACcessing the value with key 'k2'"
   ]
  },
  {
   "cell_type": "code",
   "execution_count": 26,
   "metadata": {},
   "outputs": [
    {
     "data": {
      "text/plain": [
       "['__class__',\n",
       " '__contains__',\n",
       " '__delattr__',\n",
       " '__delitem__',\n",
       " '__dir__',\n",
       " '__doc__',\n",
       " '__eq__',\n",
       " '__format__',\n",
       " '__ge__',\n",
       " '__getattribute__',\n",
       " '__getitem__',\n",
       " '__gt__',\n",
       " '__hash__',\n",
       " '__init__',\n",
       " '__init_subclass__',\n",
       " '__iter__',\n",
       " '__le__',\n",
       " '__len__',\n",
       " '__lt__',\n",
       " '__ne__',\n",
       " '__new__',\n",
       " '__reduce__',\n",
       " '__reduce_ex__',\n",
       " '__repr__',\n",
       " '__setattr__',\n",
       " '__setitem__',\n",
       " '__sizeof__',\n",
       " '__str__',\n",
       " '__subclasshook__',\n",
       " 'clear',\n",
       " 'copy',\n",
       " 'fromkeys',\n",
       " 'get',\n",
       " 'items',\n",
       " 'keys',\n",
       " 'pop',\n",
       " 'popitem',\n",
       " 'setdefault',\n",
       " 'update',\n",
       " 'values']"
      ]
     },
     "execution_count": 26,
     "metadata": {},
     "output_type": "execute_result"
    }
   ],
   "source": [
    "d1.keys() # return list of all keys\n",
    "d1.values() # return list of all values\n",
    "d1.items() # returns list of tuples\n",
    "\n",
    "d1['k3'] = \"value3\" # adding new key with value\n",
    "d1['k3'] = \"values\" # updating existing key with value\n",
    "d1.pop('k3') # Removing an item\n",
    "#d1.popitem()\n",
    "\n",
    "dir(dict)"
   ]
  },
  {
   "cell_type": "markdown",
   "metadata": {},
   "source": [
    "### Contacts Application\n",
    "\n",
    "- Add Contact\n",
    "- Search Contact\n",
    "- List all Contacts\n",
    "    - name : phone\n",
    "- Modify Contact\n",
    "- Delete Contact\n",
    "- Import Contacts from "
   ]
  },
  {
   "cell_type": "code",
   "execution_count": 55,
   "metadata": {},
   "outputs": [
    {
     "name": "stdout",
     "output_type": "stream",
     "text": [
      "Contact siva Added\n"
     ]
    }
   ],
   "source": [
    "contacts = {} # Intialize empty Dictionary\n",
    "\n",
    "def addContact(name,phone):\n",
    "    # check that the contact doesnot in contacts\n",
    "    if name not in contacts:\n",
    "        contacts.setdefault(name, phone)\n",
    "        print(\"Contact %s Added\" % name)\n",
    "    else:\n",
    "        print(\"Contact %s already is exists\" % name)\n",
    "    return\n",
    "addContact('siva','09865742331')"
   ]
  },
  {
   "cell_type": "code",
   "execution_count": 36,
   "metadata": {},
   "outputs": [
    {
     "name": "stdout",
     "output_type": "stream",
     "text": [
      "badulla : 09865742331\n"
     ]
    }
   ],
   "source": [
    "def searchContact(name):\n",
    "    if name not in contacts:\n",
    "        print(\"Contact %s not existed\" % name)\n",
    "    else:\n",
    "        print(name, \":\",contacts[name])\n",
    "searchContact('badulla')"
   ]
  },
  {
   "cell_type": "code",
   "execution_count": 39,
   "metadata": {},
   "outputs": [
    {
     "name": "stdout",
     "output_type": "stream",
     "text": [
      "badulla : 09865742331\n"
     ]
    }
   ],
   "source": [
    "def listOfContacts():\n",
    "    for key, value in contacts.items():\n",
    "        print(key,\":\",value)\n",
    "    return\n",
    "listOfContacts()"
   ]
  },
  {
   "cell_type": "code",
   "execution_count": 57,
   "metadata": {},
   "outputs": [
    {
     "name": "stdout",
     "output_type": "stream",
     "text": [
      "Enter badulla number:9490105208\n",
      "Contact badulla Modified \n"
     ]
    }
   ],
   "source": [
    "def modifyContact(name):\n",
    "    phone = input(\"Enter %s number:\" % name)\n",
    "    #contacts.setdefault(name,phone)\n",
    "    contacts[name]=phone\n",
    "    print(\"Contact %s Modified \" % name)\n",
    "    return\n",
    "\n",
    "modifyContact('badulla') "
   ]
  },
  {
   "cell_type": "code",
   "execution_count": 58,
   "metadata": {},
   "outputs": [
    {
     "data": {
      "text/plain": [
       "{'siva': '09865742331', 'badulla': '9490105208'}"
      ]
     },
     "execution_count": 58,
     "metadata": {},
     "output_type": "execute_result"
    }
   ],
   "source": [
    "contacts"
   ]
  },
  {
   "cell_type": "code",
   "execution_count": 59,
   "metadata": {},
   "outputs": [
    {
     "name": "stdout",
     "output_type": "stream",
     "text": [
      "2 added\n"
     ]
    }
   ],
   "source": [
    "# New contacts is given as a dictionary\n",
    "# Merge new contacts with existing contacts\n",
    "def importContacts(newContacts):\n",
    "    contacts.update(newContacts)\n",
    "    #print(\"Contact Merging is done\")\n",
    "    print(len(newContacts.keys()),\"added\")\n",
    "    return\n",
    "\n",
    "newContacts={\"abdul\":\"3456789021\",\"Siva\":84756834265}\n",
    "importContacts(newContacts)\n",
    "    "
   ]
  },
  {
   "cell_type": "code",
   "execution_count": 60,
   "metadata": {},
   "outputs": [
    {
     "data": {
      "text/plain": [
       "{'siva': '09865742331',\n",
       " 'badulla': '9490105208',\n",
       " 'abdul': '3456789021',\n",
       " 'Siva': 84756834265}"
      ]
     },
     "execution_count": 60,
     "metadata": {},
     "output_type": "execute_result"
    }
   ],
   "source": [
    "contacts"
   ]
  },
  {
   "cell_type": "code",
   "execution_count": 53,
   "metadata": {},
   "outputs": [
    {
     "name": "stdout",
     "output_type": "stream",
     "text": [
      "Contact Siva Deleted\n"
     ]
    }
   ],
   "source": [
    "def deleteContact(name):\n",
    "    if name in contacts:\n",
    "        contacts.pop(name)\n",
    "        print(\"Contact %s Deleted\" % name)\n",
    "    else:\n",
    "        print(\"Contact %s not existed\" % name)\n",
    "    return\n",
    "deleteContact('Siva')"
   ]
  },
  {
   "cell_type": "code",
   "execution_count": 56,
   "metadata": {},
   "outputs": [
    {
     "data": {
      "text/plain": [
       "{'siva': '09865742331'}"
      ]
     },
     "execution_count": 56,
     "metadata": {},
     "output_type": "execute_result"
    }
   ],
   "source": [
    "contacts"
   ]
  },
  {
   "cell_type": "markdown",
   "metadata": {},
   "source": [
    "### Package and Module\n",
    "\n",
    "> ** Package ** - Collection of Modules(.py files).<br>\n",
    "> ** SubPackage ** - Package inside packages.<br>\n",
    "> ** module ** - single python file containing different functions.<br>\n",
    "\n",
    "Package -> Subpackages ->Modules ->Functions\n"
   ]
  },
  {
   "cell_type": "code",
   "execution_count": 1,
   "metadata": {},
   "outputs": [
    {
     "data": {
      "text/plain": [
       "123"
      ]
     },
     "execution_count": 1,
     "metadata": {},
     "output_type": "execute_result"
    }
   ],
   "source": [
    "# import specific or perticular function from module\n",
    "# from math import floor\n",
    "\n",
    "# import all functions from module\n",
    "import math\n",
    "\n",
    "math.floor(123.345)"
   ]
  },
  {
   "cell_type": "code",
   "execution_count": 2,
   "metadata": {},
   "outputs": [
    {
     "data": {
      "text/plain": [
       "['__doc__',\n",
       " '__loader__',\n",
       " '__name__',\n",
       " '__package__',\n",
       " '__spec__',\n",
       " 'acos',\n",
       " 'acosh',\n",
       " 'asin',\n",
       " 'asinh',\n",
       " 'atan',\n",
       " 'atan2',\n",
       " 'atanh',\n",
       " 'ceil',\n",
       " 'copysign',\n",
       " 'cos',\n",
       " 'cosh',\n",
       " 'degrees',\n",
       " 'e',\n",
       " 'erf',\n",
       " 'erfc',\n",
       " 'exp',\n",
       " 'expm1',\n",
       " 'fabs',\n",
       " 'factorial',\n",
       " 'floor',\n",
       " 'fmod',\n",
       " 'frexp',\n",
       " 'fsum',\n",
       " 'gamma',\n",
       " 'gcd',\n",
       " 'hypot',\n",
       " 'inf',\n",
       " 'isclose',\n",
       " 'isfinite',\n",
       " 'isinf',\n",
       " 'isnan',\n",
       " 'ldexp',\n",
       " 'lgamma',\n",
       " 'log',\n",
       " 'log10',\n",
       " 'log1p',\n",
       " 'log2',\n",
       " 'modf',\n",
       " 'nan',\n",
       " 'pi',\n",
       " 'pow',\n",
       " 'radians',\n",
       " 'remainder',\n",
       " 'sin',\n",
       " 'sinh',\n",
       " 'sqrt',\n",
       " 'tan',\n",
       " 'tanh',\n",
       " 'tau',\n",
       " 'trunc']"
      ]
     },
     "execution_count": 2,
     "metadata": {},
     "output_type": "execute_result"
    }
   ],
   "source": [
    "dir(math)"
   ]
  },
  {
   "cell_type": "code",
   "execution_count": 14,
   "metadata": {},
   "outputs": [
    {
     "data": {
      "text/plain": [
       "0.0"
      ]
     },
     "execution_count": 14,
     "metadata": {},
     "output_type": "execute_result"
    }
   ],
   "source": [
    "math.sqrt(25)\n",
    "math.gcd(6,12)\n",
    "math.pi\n",
    "math.ceil(3.5)\n",
    "math.factorial(5)\n",
    "math.remainder(10,2)"
   ]
  },
  {
   "cell_type": "code",
   "execution_count": 18,
   "metadata": {},
   "outputs": [
    {
     "data": {
      "text/plain": [
       "['BPF',\n",
       " 'LOG4',\n",
       " 'NV_MAGICCONST',\n",
       " 'RECIP_BPF',\n",
       " 'Random',\n",
       " 'SG_MAGICCONST',\n",
       " 'SystemRandom',\n",
       " 'TWOPI',\n",
       " '_BuiltinMethodType',\n",
       " '_MethodType',\n",
       " '_Sequence',\n",
       " '_Set',\n",
       " '__all__',\n",
       " '__builtins__',\n",
       " '__cached__',\n",
       " '__doc__',\n",
       " '__file__',\n",
       " '__loader__',\n",
       " '__name__',\n",
       " '__package__',\n",
       " '__spec__',\n",
       " '_acos',\n",
       " '_bisect',\n",
       " '_ceil',\n",
       " '_cos',\n",
       " '_e',\n",
       " '_exp',\n",
       " '_inst',\n",
       " '_itertools',\n",
       " '_log',\n",
       " '_os',\n",
       " '_pi',\n",
       " '_random',\n",
       " '_sha512',\n",
       " '_sin',\n",
       " '_sqrt',\n",
       " '_test',\n",
       " '_test_generator',\n",
       " '_urandom',\n",
       " '_warn',\n",
       " 'betavariate',\n",
       " 'choice',\n",
       " 'choices',\n",
       " 'expovariate',\n",
       " 'gammavariate',\n",
       " 'gauss',\n",
       " 'getrandbits',\n",
       " 'getstate',\n",
       " 'lognormvariate',\n",
       " 'normalvariate',\n",
       " 'paretovariate',\n",
       " 'randint',\n",
       " 'random',\n",
       " 'randrange',\n",
       " 'sample',\n",
       " 'seed',\n",
       " 'setstate',\n",
       " 'shuffle',\n",
       " 'triangular',\n",
       " 'uniform',\n",
       " 'vonmisesvariate',\n",
       " 'weibullvariate']"
      ]
     },
     "execution_count": 18,
     "metadata": {},
     "output_type": "execute_result"
    }
   ],
   "source": [
    "# Function to generate N random numbers\n",
    "\n",
    "import random as rnd\n",
    "\n",
    "dir(rnd)\n",
    "# rnd.randint(0,100)"
   ]
  },
  {
   "cell_type": "code",
   "execution_count": 30,
   "metadata": {},
   "outputs": [
    {
     "name": "stdout",
     "output_type": "stream",
     "text": [
      "36 24 40 14 10 33 35 36 35 49 "
     ]
    }
   ],
   "source": [
    "def generateRandomNumbers(n,lb, ub):\n",
    "    for i in range(n):\n",
    "        # print(rnd.randrange(lb,ub), end = \" \")\n",
    "        print(rnd.randint(lb,ub), end = \" \")\n",
    "    return\n",
    "generateRandomNumbers(10,1,50)"
   ]
  },
  {
   "cell_type": "code",
   "execution_count": 37,
   "metadata": {},
   "outputs": [
    {
     "data": {
      "text/plain": [
       "29"
      ]
     },
     "execution_count": 37,
     "metadata": {},
     "output_type": "execute_result"
    }
   ],
   "source": [
    "rnd.choice([1,3,4,2,10])\n",
    "rnd.randrange(20,30,3)"
   ]
  },
  {
   "cell_type": "code",
   "execution_count": 46,
   "metadata": {},
   "outputs": [
    {
     "data": {
      "text/plain": [
       "True"
      ]
     },
     "execution_count": 46,
     "metadata": {},
     "output_type": "execute_result"
    }
   ],
   "source": [
    "from Packages import numarical as num\n",
    "\n",
    "# dir(num)\n",
    "num.isPrime(103)"
   ]
  },
  {
   "cell_type": "code",
   "execution_count": null,
   "metadata": {},
   "outputs": [],
   "source": []
  }
 ],
 "metadata": {
  "kernelspec": {
   "display_name": "Python 3",
   "language": "python",
   "name": "python3"
  },
  "language_info": {
   "codemirror_mode": {
    "name": "ipython",
    "version": 3
   },
   "file_extension": ".py",
   "mimetype": "text/x-python",
   "name": "python",
   "nbconvert_exporter": "python",
   "pygments_lexer": "ipython3",
   "version": "3.7.3"
  }
 },
 "nbformat": 4,
 "nbformat_minor": 2
}
