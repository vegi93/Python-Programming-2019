{
 "cells": [
  {
   "cell_type": "markdown",
   "metadata": {},
   "source": [
    "# Problem Solving and Programming\n",
    "\n",
    "### Date 12 June 2019\n",
    "### Day Objectives\n",
    "> * String Slicing\n",
    "> * Functions in Python\n",
    "> * Basic Problems related to conditional statements using functions\n",
    "> * Iteration in Python \n",
    "> * Python Data Structures-List,Tuple and Dictionaries\n",
    "    * Basic Operations on data structures\n",
    "    * Applying Data Structures to solve problems\n",
    "\n"
   ]
  },
  {
   "cell_type": "code",
   "execution_count": null,
   "metadata": {},
   "outputs": [],
   "source": []
  },
  {
   "cell_type": "markdown",
   "metadata": {},
   "source": [
    "## String Slicing"
   ]
  },
  {
   "cell_type": "code",
   "execution_count": 46,
   "metadata": {},
   "outputs": [
    {
     "data": {
      "text/plain": [
       "'ht'"
      ]
     },
     "execution_count": 46,
     "metadata": {},
     "output_type": "execute_result"
    }
   ],
   "source": [
    "s1 = \"Python\"\n",
    "s1[0]\n",
    "s1[1]\n",
    "s1[len(s1)-1] # last character of the string\n",
    "s1[-1]# another way to access last character\n",
    "s1[-2]\n",
    "s1[-2:] # for accessing last two characters\n",
    "s1[len(s1)//2] # for accessing middle character\n",
    "s1[::-1] # to reverse a string\n",
    "s1[-1::-1] # anther way to reverse a string\n",
    "s1[-1:-3:-1] # last two characters in reverse order\n",
    "\n",
    "# accessing alternative characters in string\n",
    "s1[::2]\n",
    "# accessing alternative characters in string in reverse oredr\n",
    "s1[::-2]\n",
    "# Reverse the middle two characters in an even length string\n",
    "s1[len(s1)//2:len(s1)//2-2:-1]"
   ]
  },
  {
   "cell_type": "code",
   "execution_count": null,
   "metadata": {},
   "outputs": [
    {
     "name": "stdout",
     "output_type": "stream",
     "text": [
      "\n",
      "Welcome to Python 3.7's help utility!\n",
      "\n",
      "If this is your first time using Python, you should definitely check out\n",
      "the tutorial on the Internet at https://docs.python.org/3.7/tutorial/.\n",
      "\n",
      "Enter the name of any module, keyword, or topic to get help on writing\n",
      "Python programs and using Python modules.  To quit this help utility and\n",
      "return to the interpreter, just type \"quit\".\n",
      "\n",
      "To get a list of available modules, keywords, symbols, or topics, type\n",
      "\"modules\", \"keywords\", \"symbols\", or \"topics\".  Each module also comes\n",
      "with a one-line summary of what it does; to list the modules whose name\n",
      "or summary contain a given string such as \"spam\", type \"modules spam\".\n",
      "\n",
      "help> keywords\n",
      "\n",
      "Here is a list of the Python keywords.  Enter any keyword to get more help.\n",
      "\n",
      "False               class               from                or\n",
      "None                continue            global              pass\n",
      "True                def                 if                  raise\n",
      "and                 del                 import              return\n",
      "as                  elif                in                  try\n",
      "assert              else                is                  while\n",
      "async               except              lambda              with\n",
      "await               finally             nonlocal            yield\n",
      "break               for                 not                 \n",
      "\n"
     ]
    }
   ],
   "source": [
    "help()"
   ]
  },
  {
   "cell_type": "markdown",
   "metadata": {},
   "source": [
    "# Functions"
   ]
  },
  {
   "cell_type": "code",
   "execution_count": 1,
   "metadata": {},
   "outputs": [
    {
     "data": {
      "text/plain": [
       "'nohtyp'"
      ]
     },
     "execution_count": 1,
     "metadata": {},
     "output_type": "execute_result"
    }
   ],
   "source": [
    "# Function to reverse a string\n",
    "def reverseString(s):\n",
    "    return s[::-1]\n",
    "\n",
    "reverseString(\"python\")"
   ]
  },
  {
   "cell_type": "code",
   "execution_count": 14,
   "metadata": {},
   "outputs": [
    {
     "name": "stdout",
     "output_type": "stream",
     "text": [
      "Enter a String:121\n",
      "It is palindrome\n"
     ]
    }
   ],
   "source": [
    "# function to check the given string is palindrome or not\n",
    "def palindrome(s):\n",
    "    return s[::-1]\n",
    "s=input(\"Enter a String:\")\n",
    "revstr = palindrome(s)\n",
    "\n",
    "if revstr == s:\n",
    "    print(\"It is palindrome\")\n",
    "else:\n",
    "    print(\"It is not palindrom\")"
   ]
  },
  {
   "cell_type": "code",
   "execution_count": 17,
   "metadata": {},
   "outputs": [
    {
     "name": "stdout",
     "output_type": "stream",
     "text": [
      "Enter Year:2000\n"
     ]
    },
    {
     "data": {
      "text/plain": [
       "True"
      ]
     },
     "execution_count": 17,
     "metadata": {},
     "output_type": "execute_result"
    }
   ],
   "source": [
    "# function to check the given number is leap year or not\n",
    "def isLeapYear(year):\n",
    "    if year%400==0 or (year%100!=0 and year%4==0):\n",
    "        return True\n",
    "    return False\n",
    "\n",
    "year = int(input(\"Enter Year:\"))\n",
    "isLeapYear(year)"
   ]
  },
  {
   "cell_type": "code",
   "execution_count": 31,
   "metadata": {
    "scrolled": false
   },
   "outputs": [
    {
     "name": "stdout",
     "output_type": "stream",
     "text": [
      "Enter a number:12345\n",
      "5\n"
     ]
    }
   ],
   "source": [
    "# function to  Calculate the number of digits in a number\n",
    "def digitCount(n):\n",
    "    print(len(n))\n",
    "\n",
    "num = input(\"Enter a number:\")\n",
    "digitCount(num)\n"
   ]
  },
  {
   "cell_type": "code",
   "execution_count": 22,
   "metadata": {},
   "outputs": [
    {
     "name": "stdout",
     "output_type": "stream",
     "text": [
      "Enter First Number:45\n",
      "Enter Second Number:67\n",
      "Enter Third Number:79\n",
      "Enter Fourth Number:34\n"
     ]
    },
    {
     "data": {
      "text/plain": [
       "79"
      ]
     },
     "execution_count": 22,
     "metadata": {},
     "output_type": "execute_result"
    }
   ],
   "source": [
    "# function to identify the gretest of four numbers\n",
    "\n",
    "def maxNum(n1,n2,n3,n4):\n",
    "    if n1 > n2 and n1 > n3 and n1 > n4:\n",
    "        return n1\n",
    "    elif n2 > n3 and n2 > n4:\n",
    "        return n2\n",
    "    elif n3 > n4:\n",
    "        return n3\n",
    "    else:\n",
    "        return n4\n",
    "\n",
    "num1 = int(input(\"Enter First Number:\"))\n",
    "num2 = int(input(\"Enter Second Number:\"))\n",
    "num3 = int(input(\"Enter Third Number:\"))\n",
    "num4 = int(input(\"Enter Fourth Number:\"))\n",
    "\n",
    "maxNum(num1, num2, num3, num4)\n",
    "\n",
    "    "
   ]
  },
  {
   "cell_type": "code",
   "execution_count": null,
   "metadata": {},
   "outputs": [],
   "source": []
  },
  {
   "cell_type": "markdown",
   "metadata": {},
   "source": [
    "# Iterations:\n",
    "\n",
    "- For\n",
    "- While "
   ]
  },
  {
   "cell_type": "code",
   "execution_count": 30,
   "metadata": {
    "scrolled": false
   },
   "outputs": [
    {
     "name": "stdout",
     "output_type": "stream",
     "text": [
      "To print N natural numbers\n",
      "Enter a Number:30\n",
      "1,2,3,4,5,6,7,8,9,10,11,12,13,14,15,16,17,18,19,20,21,22,23,24,25,26,27,28,29,30,"
     ]
    }
   ],
   "source": [
    "# function to print N natural numbers using for loop\n",
    "def NNaturalNumbers(n):\n",
    "    for i in range(1,n+1):\n",
    "        print(i, end = \",\")\n",
    "    return\n",
    "print(\"To print N natural numbers\")\n",
    "num = int(input(\"Enter a Number:\"))\n",
    "NNaturalNumbers(num)"
   ]
  },
  {
   "cell_type": "code",
   "execution_count": 33,
   "metadata": {},
   "outputs": [
    {
     "name": "stdout",
     "output_type": "stream",
     "text": [
      "To print N natural numbers\n",
      "Enter a Number:20\n",
      "1 2 3 4 5 6 7 8 9 10 11 12 13 14 15 16 17 18 19 20 "
     ]
    }
   ],
   "source": [
    "# function to print N natural numbers using for while loop\n",
    "\n",
    "def nNaturalNumbers(n):\n",
    "    counter = 1\n",
    "    while(counter <= n):\n",
    "        print(counter, end = \" \")\n",
    "        counter+=1\n",
    "print(\"To print N natural numbers\")\n",
    "num = int(input(\"Enter a Number:\"))\n",
    "nNaturalNumbers(num)       "
   ]
  },
  {
   "cell_type": "code",
   "execution_count": 37,
   "metadata": {},
   "outputs": [
    {
     "name": "stdout",
     "output_type": "stream",
     "text": [
      "Enter Lower bound value:1\n",
      "Enter upper bound value:5\n"
     ]
    }
   ],
   "source": [
    "# Function to print all numbers divisible by 6 and not a factor of 100 in a given range\n",
    "\n",
    "def printNums(n1,n2):\n",
    "    for i in range(n1,n2+1):\n",
    "        if i%6==0 and 100%i!=0:\n",
    "            print(i, end = \" \")\n",
    "lb = int(input(\"Enter Lower bound value:\"))\n",
    "ub = int(input(\"Enter upper bound value:\"))\n",
    "printNums(lb,ub)"
   ]
  },
  {
   "cell_type": "code",
   "execution_count": 39,
   "metadata": {},
   "outputs": [
    {
     "name": "stdout",
     "output_type": "stream",
     "text": [
      "Enter a value:5\n"
     ]
    },
    {
     "data": {
      "text/plain": [
       "36.0"
      ]
     },
     "execution_count": 39,
     "metadata": {},
     "output_type": "execute_result"
    }
   ],
   "source": [
    "# Function to find the average of cubes of all even numbers in a given range\n",
    "\n",
    "def avgCubesOfEven(n1):\n",
    "    sm=0\n",
    "    count=0\n",
    "    for i in range(2,n1+1,2):\n",
    "        sm+=pow(i,3)\n",
    "        count+=1\n",
    "    return sm/count\n",
    "val = int(input(\"Enter a value:\"))\n",
    "avgCubesOfEven(val)\n",
    "        "
   ]
  },
  {
   "cell_type": "code",
   "execution_count": 51,
   "metadata": {},
   "outputs": [
    {
     "name": "stdout",
     "output_type": "stream",
     "text": [
      "Enter a value:12\n",
      "1 2 3 4 6 12 "
     ]
    }
   ],
   "source": [
    "# Function to generate the list of factors for a given number\n",
    "# 12 -> 1 2 3 4 6 12\n",
    "def generateFactors(n1):\n",
    "    for i in range(1,n1+1):\n",
    "        if n1 % i == 0:\n",
    "            print(i, end = \" \")\n",
    "val = int(input(\"Enter a value:\"))\n",
    "generateFactors(val)"
   ]
  },
  {
   "cell_type": "code",
   "execution_count": 52,
   "metadata": {},
   "outputs": [
    {
     "name": "stdout",
     "output_type": "stream",
     "text": [
      "Enter a value:5\n"
     ]
    },
    {
     "data": {
      "text/plain": [
       "120"
      ]
     },
     "execution_count": 52,
     "metadata": {},
     "output_type": "execute_result"
    }
   ],
   "source": [
    "# Function to calculate the factorial of given number\n",
    "def nFactorial(n1):\n",
    "    fact = 1\n",
    "    for i in range(1,n1+1):\n",
    "        fact *=i\n",
    "    return fact\n",
    "val = int(input(\"Enter a value:\"))\n",
    "nFactorial(val)"
   ]
  },
  {
   "cell_type": "code",
   "execution_count": 54,
   "metadata": {},
   "outputs": [
    {
     "name": "stdout",
     "output_type": "stream",
     "text": [
      "Enter a value:33\n",
      "It is not prime\n"
     ]
    }
   ],
   "source": [
    "# frunction to check if a given number is prime\n",
    "def isPrime(n1):\n",
    "    float = 0\n",
    "    for i in range(2,n1//2):\n",
    "        if n1%i==0:\n",
    "            float += 1\n",
    "    return float\n",
    "\n",
    "val = int(input(\"Enter a value:\"))\n",
    "rs = isPrime(val)\n",
    "\n",
    "if rs == 0:\n",
    "    print(\"It is Prime\")\n",
    "else:\n",
    "    print(\"It is not prime\")"
   ]
  },
  {
   "cell_type": "code",
   "execution_count": 78,
   "metadata": {},
   "outputs": [
    {
     "data": {
      "text/plain": [
       "4.25"
      ]
     },
     "execution_count": 78,
     "metadata": {},
     "output_type": "execute_result"
    }
   ],
   "source": [
    "# Function to calculte the average first N Prime numbers\n",
    "def avgOfNPrimes(n1):\n",
    "    count = 0\n",
    "    sum = 0\n",
    "    for i in range(2,n1+1):\n",
    "        flag = 0\n",
    "        for j in range(2,i):\n",
    "            if i%j==0:\n",
    "                flag += 1\n",
    "                \n",
    "        if flag==0:\n",
    "            count += 1\n",
    "            sum += i\n",
    "            \n",
    "            \n",
    "    return sum/count\n",
    "avgOfNPrimes(10)"
   ]
  },
  {
   "cell_type": "code",
   "execution_count": null,
   "metadata": {},
   "outputs": [],
   "source": [
    "# Function to generate all perfect numbers"
   ]
  }
 ],
 "metadata": {
  "kernelspec": {
   "display_name": "Python 3",
   "language": "python",
   "name": "python3"
  },
  "language_info": {
   "codemirror_mode": {
    "name": "ipython",
    "version": 3
   },
   "file_extension": ".py",
   "mimetype": "text/x-python",
   "name": "python",
   "nbconvert_exporter": "python",
   "pygments_lexer": "ipython3",
   "version": "3.7.3"
  }
 },
 "nbformat": 4,
 "nbformat_minor": 2
}
