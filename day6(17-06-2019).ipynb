{
 "cells": [
  {
   "cell_type": "markdown",
   "metadata": {},
   "source": [
    "## Day Objectives:\n",
    "\n",
    "### Problem solving in hackearth\n",
    "\n",
    "\n",
    "### You are conducting a contest at your college. This contest consists of two problems and  participants. You know the problem that a candidate will solve during the contest.\n",
    "\n",
    "### You provide a balloon to a participant after he or she solves a problem. There are only green and purple-colored balloons available in a market. Each problem must have a balloon associated with it as a prize for solving that specific problem. You can distribute balloons to each participant by performing the following operation:\n",
    "\n",
    "### Use green-colored balloons for the first problem and purple-colored balloons for the second problem Use purple-colored balloons for the first problem and green-colored balloons for the second problem You are given the cost of each balloon and problems that each participant solve. Your task is to print the minimum price that you have to pay while purchasing balloons."
   ]
  },
  {
   "cell_type": "code",
   "execution_count": null,
   "metadata": {},
   "outputs": [],
   "source": [
    "def problemSolved(ps1,ps2,gcv,pcv):\n",
    "    if (ps1 == 1) and (ps2 == 1):\n",
    "       return gcv+pcv\n",
    "    elif(ps1 == 1):\n",
    "        return gcv\n",
    "    elif(ps2 == 1):\n",
    "        return pcv\n",
    "    else:\n",
    "        return 0\n",
    "# Write your code here\n",
    "N = int(input())\n",
    "for i in range(N):\n",
    "    val = input().split()\n",
    "    if i == 0:\n",
    "        gc = int(val[0])\n",
    "        pc =int(val[1])\n",
    "    else:\n",
    "        gc = int(val[1])\n",
    "        pc =int(val[0])\n",
    "    \n",
    "    sum = 0\n",
    "    p = int(input())\n",
    "    for i in range(p):\n",
    "        ps = input().split()\n",
    "        sum += problemSolved(int(ps[0]),int(ps[1]),gc,pc)\n",
    "    print(sum)\n",
    "    "
   ]
  },
  {
   "cell_type": "code",
   "execution_count": null,
   "metadata": {},
   "outputs": [],
   "source": []
  },
  {
   "cell_type": "markdown",
   "metadata": {},
   "source": [
    "### Rahul is a very busy persion he dont wan't to waste his time . He keeps account of duration of each and every work. Now he don't even get time to calculate duration of works, So your job is to count the durations for each work and give it to rahul.\n",
    "\n",
    "### Input:\n",
    "\n",
    "### First line will be given by N number of works Next N line will be given SH,SM,EH and EM  each separated by space(SH=starting hr, SM=starting min, EH=ending hr, EM=ending min)\n",
    "\n",
    "### Output:\n",
    "\n",
    "### N lines with duration HH MM(hours and minutes separated by space)"
   ]
  },
  {
   "cell_type": "code",
   "execution_count": null,
   "metadata": {},
   "outputs": [],
   "source": [
    "def timeDeference(SH, SM, EH, EM):\n",
    "    tm = abs(((SH * 60) + SM) - ((EH * 60) + EM))\n",
    "    TH = tm // 60\n",
    "    TM = tm %  60\n",
    "    print(TH, TM)\n",
    "# Write your code here\n",
    "N = int(input())\n",
    "\n",
    "for i in range(N):\n",
    "    time = input().split()\n",
    "    SH, SM, EH, EM = int(time[0]), int(time[1]), int(time[2]), int(time[3])\n",
    "    \n",
    "    timeDeference(SH, SM, EH, EM)"
   ]
  },
  {
   "cell_type": "code",
   "execution_count": null,
   "metadata": {},
   "outputs": [],
   "source": []
  },
  {
   "cell_type": "code",
   "execution_count": null,
   "metadata": {},
   "outputs": [],
   "source": []
  }
 ],
 "metadata": {
  "kernelspec": {
   "display_name": "Python 3",
   "language": "python",
   "name": "python3"
  },
  "language_info": {
   "codemirror_mode": {
    "name": "ipython",
    "version": 3
   },
   "file_extension": ".py",
   "mimetype": "text/x-python",
   "name": "python",
   "nbconvert_exporter": "python",
   "pygments_lexer": "ipython3",
   "version": "3.7.3"
  }
 },
 "nbformat": 4,
 "nbformat_minor": 2
}
