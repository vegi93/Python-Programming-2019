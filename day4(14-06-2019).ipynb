{
 "cells": [
  {
   "cell_type": "markdown",
   "metadata": {},
   "source": [
    "# Problem Solving and Programming in Python\n",
    "\n",
    "## Date - 14 June 2019\n",
    "\n",
    "#### Day Objectives\n",
    "\n",
    "> - Python Data Structures\n",
    "     - Lists\n",
    "     - Tuples\n",
    "     - Dictionaries\n",
    "> - Basic Problem set on Data Structures\n",
    "> - Advanced Problem Set\n",
    "> - Packages and Modules in Python"
   ]
  },
  {
   "cell_type": "markdown",
   "metadata": {},
   "source": [
    "## Python Data Structures\n",
    "\n",
    "### Lists"
   ]
  },
  {
   "cell_type": "code",
   "execution_count": 39,
   "metadata": {},
   "outputs": [
    {
     "data": {
      "text/plain": [
       "288.5"
      ]
     },
     "execution_count": 39,
     "metadata": {},
     "output_type": "execute_result"
    }
   ],
   "source": [
    "li = [12,13,5]\n",
    "\n",
    "li # Access the entire list\n",
    "\n",
    "li[0] # Accessing an element with index in a list\n",
    "\n",
    "li[1:] # accesas all elements from secong to last  \n",
    "li[::-1] # to reverse a list element\n",
    "\n",
    "li[::2] # accessing all even index elements\n",
    "li[1::2] # accessing all odd index elements\n",
    "\n",
    "# Lists can be accessed, Manipulated in two different ways\n",
    "    \n",
    "    # Direct Referencing - Accessing through [index]\n",
    "    # Indirect Referencing - through functons\n",
    "    \n",
    "li.append(345) # Adding an eleemnt to end of the list\n",
    "li.insert(1,34) # Adding an element at a specific index position\n",
    "\n",
    "li.sort() # Sort elements in ascending order\n",
    "\n",
    "li.pop() # Remove the last element\n",
    "li.pop(1) # Remove an element at perticular index position\n",
    "li.remove(5) # Remove an element at perticular value\n",
    "li2 = [234,543,678]\n",
    "li.extend(li2) # Merge list 2 into list 1\n",
    "sum(li)\n",
    "max(li)\n",
    "min(li)\n",
    "len(li)\n",
    "\n",
    "# Average of list elements\n",
    "avg = sum(li)/len(li)\n",
    "avg\n",
    "# sum of all even position elements\n",
    "l=li[::2]\n",
    "sum(l)/len(l)\n",
    "# sum of all odd position elements\n",
    "l = li[1::2]\n",
    "sum(l)/len(l)"
   ]
  },
  {
   "cell_type": "code",
   "execution_count": 64,
   "metadata": {},
   "outputs": [
    {
     "data": {
      "text/plain": [
       "543"
      ]
     },
     "execution_count": 64,
     "metadata": {},
     "output_type": "execute_result"
    }
   ],
   "source": [
    "# function to identify second Max element\n",
    "\n",
    "def secondMax(li):\n",
    "    li.sort()\n",
    "    #return li[-2]\n",
    "    po=len(li)\n",
    "    return li[po-1]\n",
    "    \n",
    "#secondMax([234,543,678])\n",
    "\n",
    "# Function that returns the nth largest \n",
    "def genericLargest(li,n):\n",
    "    li.sort()\n",
    "    # return li[-n]\n",
    "    li=li[::-1]\n",
    "    return li[n-1]\n",
    "genericLargest([234,543,678,45,365,765,89,89,987,45,345],4)"
   ]
  },
  {
   "cell_type": "code",
   "execution_count": 78,
   "metadata": {},
   "outputs": [
    {
     "data": {
      "text/plain": [
       "5"
      ]
     },
     "execution_count": 78,
     "metadata": {},
     "output_type": "execute_result"
    }
   ],
   "source": [
    "# function to search for data in a list\n",
    "# Search for the key in the list and return the index of the key.return -1 if key not found\n",
    "\n",
    "def linearSearch(li,key):\n",
    "    if key in li:\n",
    "        return li.index(key)\n",
    "    return -1\n",
    "\n",
    "def linearSearch2(li,key):\n",
    "    try:\n",
    "        return li.index(key)\n",
    "    except:\n",
    "        return -1\n",
    "def linearSearch3(li,key):\n",
    "    return [li.index(key) if key in li else -1 ]\n",
    "# def linearSearch4(li,key)\n",
    "linearSearch2([234,543,678,45,365,765,89,987,345],765)      \n",
    "    "
   ]
  },
  {
   "cell_type": "code",
   "execution_count": 12,
   "metadata": {},
   "outputs": [
    {
     "data": {
      "text/plain": [
       "3"
      ]
     },
     "execution_count": 12,
     "metadata": {},
     "output_type": "execute_result"
    }
   ],
   "source": [
    "# function to count the occurances of a character in a string\n",
    "# ex: \"Python Programming\" , m->2\n",
    "\n",
    "def countOccuranceOfChar(str1,ch):\n",
    "    return str1.count(ch)\n",
    "\n",
    "def countOccuranceOfChar1(str1,ch):\n",
    "    #return str1.count(ch)\n",
    "    count = 0\n",
    "    for c in str1:\n",
    "        if c == ch:\n",
    "            count+=1\n",
    "    return count\n",
    "\n",
    "# countOccuranceOfChar1(\"Python Programming\",\"m\")\n",
    "\n",
    "# Function to find the number of occurances of a given substring in a string\n",
    "# \"abcdabdcabed\",\"ab\"->2\n",
    "\n",
    "def countOccuranceOfSubStr(str1,substr):\n",
    "    count = 0\n",
    "    for i in range(len(str1)-1):\n",
    "        ch = str1[i]+str1[i+1]\n",
    "        if ch == substr:\n",
    "            count +=1\n",
    "    return count\n",
    "countOccuranceOfSubStr(\"abcdabdcaaaabed\",'aa')"
   ]
  },
  {
   "cell_type": "code",
   "execution_count": 7,
   "metadata": {},
   "outputs": [
    {
     "data": {
      "text/plain": [
       "14"
      ]
     },
     "execution_count": 7,
     "metadata": {},
     "output_type": "execute_result"
    }
   ],
   "source": []
  },
  {
   "cell_type": "code",
   "execution_count": 6,
   "metadata": {},
   "outputs": [
    {
     "data": {
      "text/plain": [
       "-1"
      ]
     },
     "execution_count": 6,
     "metadata": {},
     "output_type": "execute_result"
    }
   ],
   "source": []
  },
  {
   "cell_type": "code",
   "execution_count": null,
   "metadata": {},
   "outputs": [],
   "source": []
  }
 ],
 "metadata": {
  "kernelspec": {
   "display_name": "Python 3",
   "language": "python",
   "name": "python3"
  },
  "language_info": {
   "codemirror_mode": {
    "name": "ipython",
    "version": 3
   },
   "file_extension": ".py",
   "mimetype": "text/x-python",
   "name": "python",
   "nbconvert_exporter": "python",
   "pygments_lexer": "ipython3",
   "version": "3.7.3"
  }
 },
 "nbformat": 4,
 "nbformat_minor": 2
}
